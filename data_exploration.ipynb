{
 "cells": [
  {
   "cell_type": "markdown",
   "id": "alpine-button",
   "metadata": {},
   "source": [
    "# Data Exploration\n",
    "\n",
    "Using mystery genre (~10% of full dataset)\n",
    "\n",
    "* Import reviews datasets\n",
    "* Add columns for user reviews, days since review\n",
    "* Explore distribution of votes and comments on reviews\n",
    "* Explore distribution of votes and comments by days since review\n",
    "* Explore distribution of readership (ratings, reviews, likes/comments on reviews per book)\n",
    "* Explore \"like share\" distribution\n",
    "\n",
    "### Takeaways for full dataset\n",
    "\n",
    "Add columns:\n",
    "* number of reviews by user\n",
    "* number of days between review posting and data scraping\n",
    "* number of likes (votes + comments)\n",
    "* like share (review likes/book review likes)\n",
    "* popularity (binary)\n",
    "\n",
    "Filters:\n",
    "* book review is in English\n",
    "* book has at least 10 reviews (~60th percentile)\n",
    "* book has at least 60 review likes (~55th percentile)\n",
    "* review has at least 1 like\n"
   ]
  },
  {
   "cell_type": "code",
   "execution_count": 1,
   "id": "chief-moldova",
   "metadata": {},
   "outputs": [],
   "source": [
    "import json\n",
    "import pandas as pd\n",
    "import matplotlib.pyplot as plt"
   ]
  },
  {
   "cell_type": "code",
   "execution_count": 2,
   "id": "recent-rebound",
   "metadata": {},
   "outputs": [],
   "source": [
    "book_path = \"data/goodreads_books_mystery.json\"\n",
    "review_path = \"data/goodreads_reviews_mystery.json\""
   ]
  },
  {
   "cell_type": "code",
   "execution_count": 3,
   "id": "verbal-campus",
   "metadata": {},
   "outputs": [],
   "source": [
    "# read review data and convert to DataFrame\n",
    "reviews = []\n",
    "with open(review_path) as f:\n",
    "    for line in f:\n",
    "        reviews.append(json.loads(line))\n",
    "reviews = pd.DataFrame(reviews, columns=['user_id','book_id','rating','review_text','date_added','n_votes','n_comments'])"
   ]
  },
  {
   "cell_type": "code",
   "execution_count": 4,
   "id": "extra-market",
   "metadata": {},
   "outputs": [],
   "source": [
    "# add column for number of reviews by user\n",
    "reviews = reviews.join(reviews.groupby(\"user_id\")[\"book_id\"].count().rename(\"user_reviews\"),on='user_id')"
   ]
  },
  {
   "cell_type": "code",
   "execution_count": 5,
   "id": "italic-metropolitan",
   "metadata": {},
   "outputs": [
    {
     "data": {
      "text/plain": [
       "1849236"
      ]
     },
     "execution_count": 5,
     "metadata": {},
     "output_type": "execute_result"
    }
   ],
   "source": [
    "len(reviews)"
   ]
  },
  {
   "cell_type": "code",
   "execution_count": 6,
   "id": "infinite-improvement",
   "metadata": {},
   "outputs": [
    {
     "name": "stdout",
     "output_type": "stream",
     "text": [
      "1943-04-01 07:00:00+00:00 2017-11-04 05:17:08+00:00\n"
     ]
    }
   ],
   "source": [
    "# explore range of review dates\n",
    "review_dates = pd.to_datetime(pd.to_datetime(reviews[\"date_added\"],format='%a %b %d %H:%M:%S %z %Y',errors='coerce'),utc=True,errors='coerce')\n",
    "print(min(review_dates), max(review_dates))"
   ]
  },
  {
   "cell_type": "code",
   "execution_count": 7,
   "id": "tamil-entrance",
   "metadata": {},
   "outputs": [],
   "source": [
    "# add column for days between review posting and data scraping (max review date)\n",
    "reviews[\"days_since_review\"] = (max(review_dates) - review_dates).dt.days"
   ]
  },
  {
   "cell_type": "code",
   "execution_count": 8,
   "id": "frozen-vertex",
   "metadata": {},
   "outputs": [
    {
     "data": {
      "text/html": [
       "<div>\n",
       "<style scoped>\n",
       "    .dataframe tbody tr th:only-of-type {\n",
       "        vertical-align: middle;\n",
       "    }\n",
       "\n",
       "    .dataframe tbody tr th {\n",
       "        vertical-align: top;\n",
       "    }\n",
       "\n",
       "    .dataframe thead th {\n",
       "        text-align: right;\n",
       "    }\n",
       "</style>\n",
       "<table border=\"1\" class=\"dataframe\">\n",
       "  <thead>\n",
       "    <tr style=\"text-align: right;\">\n",
       "      <th></th>\n",
       "      <th>n_votes</th>\n",
       "      <th>n_comments</th>\n",
       "    </tr>\n",
       "  </thead>\n",
       "  <tbody>\n",
       "    <tr>\n",
       "      <th>0.500</th>\n",
       "      <td>0.0</td>\n",
       "      <td>0.0</td>\n",
       "    </tr>\n",
       "    <tr>\n",
       "      <th>0.650</th>\n",
       "      <td>0.0</td>\n",
       "      <td>0.0</td>\n",
       "    </tr>\n",
       "    <tr>\n",
       "      <th>0.750</th>\n",
       "      <td>1.0</td>\n",
       "      <td>0.0</td>\n",
       "    </tr>\n",
       "    <tr>\n",
       "      <th>0.900</th>\n",
       "      <td>2.0</td>\n",
       "      <td>0.0</td>\n",
       "    </tr>\n",
       "    <tr>\n",
       "      <th>0.950</th>\n",
       "      <td>4.0</td>\n",
       "      <td>1.0</td>\n",
       "    </tr>\n",
       "    <tr>\n",
       "      <th>0.990</th>\n",
       "      <td>18.0</td>\n",
       "      <td>6.0</td>\n",
       "    </tr>\n",
       "    <tr>\n",
       "      <th>0.999</th>\n",
       "      <td>82.0</td>\n",
       "      <td>27.0</td>\n",
       "    </tr>\n",
       "  </tbody>\n",
       "</table>\n",
       "</div>"
      ],
      "text/plain": [
       "       n_votes  n_comments\n",
       "0.500      0.0         0.0\n",
       "0.650      0.0         0.0\n",
       "0.750      1.0         0.0\n",
       "0.900      2.0         0.0\n",
       "0.950      4.0         1.0\n",
       "0.990     18.0         6.0\n",
       "0.999     82.0        27.0"
      ]
     },
     "execution_count": 8,
     "metadata": {},
     "output_type": "execute_result"
    }
   ],
   "source": [
    "# distribution of votes and comments\n",
    "reviews[[\"n_votes\",\"n_comments\"]].quantile([.5,.65,.75,.9,.95,.99,.999])"
   ]
  },
  {
   "cell_type": "code",
   "execution_count": 9,
   "id": "bottom-credit",
   "metadata": {},
   "outputs": [
    {
     "data": {
      "text/plain": [
       "0.7443171125805468"
      ]
     },
     "execution_count": 9,
     "metadata": {},
     "output_type": "execute_result"
    }
   ],
   "source": [
    "len(reviews[reviews[\"n_votes\"]==0])/len(reviews)"
   ]
  },
  {
   "cell_type": "markdown",
   "id": "marked-stranger",
   "metadata": {},
   "source": [
    "There are 0 votes for 75% of reviews. 95% have 4 or fewer votes. Extremely skewed distribution. I think it might make sense to remove all reviews with 0 votes and comments as these reviews are uninformative. Likely these people just don't have friends reading their reviews. Even keeping reviews with one vote in is a very skewed distribution as over 50% have only one vote. All the more reason to come up with some kind of scaled metric or categorical metric."
   ]
  },
  {
   "cell_type": "code",
   "execution_count": 10,
   "id": "imported-poison",
   "metadata": {},
   "outputs": [
    {
     "data": {
      "text/html": [
       "<div>\n",
       "<style scoped>\n",
       "    .dataframe tbody tr th:only-of-type {\n",
       "        vertical-align: middle;\n",
       "    }\n",
       "\n",
       "    .dataframe tbody tr th {\n",
       "        vertical-align: top;\n",
       "    }\n",
       "\n",
       "    .dataframe thead th {\n",
       "        text-align: right;\n",
       "    }\n",
       "</style>\n",
       "<table border=\"1\" class=\"dataframe\">\n",
       "  <thead>\n",
       "    <tr style=\"text-align: right;\">\n",
       "      <th></th>\n",
       "      <th>n_votes</th>\n",
       "      <th>n_comments</th>\n",
       "    </tr>\n",
       "  </thead>\n",
       "  <tbody>\n",
       "    <tr>\n",
       "      <th>0.500</th>\n",
       "      <td>1.000</td>\n",
       "      <td>0.0</td>\n",
       "    </tr>\n",
       "    <tr>\n",
       "      <th>0.750</th>\n",
       "      <td>3.000</td>\n",
       "      <td>1.0</td>\n",
       "    </tr>\n",
       "    <tr>\n",
       "      <th>0.900</th>\n",
       "      <td>8.000</td>\n",
       "      <td>2.0</td>\n",
       "    </tr>\n",
       "    <tr>\n",
       "      <th>0.950</th>\n",
       "      <td>14.000</td>\n",
       "      <td>4.0</td>\n",
       "    </tr>\n",
       "    <tr>\n",
       "      <th>0.990</th>\n",
       "      <td>47.000</td>\n",
       "      <td>15.0</td>\n",
       "    </tr>\n",
       "    <tr>\n",
       "      <th>0.999</th>\n",
       "      <td>138.566</td>\n",
       "      <td>48.0</td>\n",
       "    </tr>\n",
       "  </tbody>\n",
       "</table>\n",
       "</div>"
      ],
      "text/plain": [
       "       n_votes  n_comments\n",
       "0.500    1.000         0.0\n",
       "0.750    3.000         1.0\n",
       "0.900    8.000         2.0\n",
       "0.950   14.000         4.0\n",
       "0.990   47.000        15.0\n",
       "0.999  138.566        48.0"
      ]
     },
     "execution_count": 10,
     "metadata": {},
     "output_type": "execute_result"
    }
   ],
   "source": [
    "# distribution of votes and comments, filtering out 0 vote and comment reviews\n",
    "reviews.loc[(reviews[\"n_votes\"]+reviews[\"n_comments\"])>0,[\"n_votes\",\"n_comments\"]].quantile([.5,.75,.9,.95,.99,.999])"
   ]
  },
  {
   "cell_type": "code",
   "execution_count": 11,
   "id": "sacred-wrestling",
   "metadata": {},
   "outputs": [
    {
     "data": {
      "text/plain": [
       "0.500    0.000000\n",
       "0.750    0.000000\n",
       "0.900    0.657143\n",
       "0.950    1.000000\n",
       "0.990    3.000000\n",
       "0.999    7.000000\n",
       "dtype: float64"
      ]
     },
     "execution_count": 11,
     "metadata": {},
     "output_type": "execute_result"
    }
   ],
   "source": [
    "# ratio of votes to comments; comments are very rare\n",
    "(reviews[reviews[\"n_votes\"]>0][\"n_comments\"]/reviews[reviews[\"n_votes\"]>0][\"n_votes\"]).quantile([.5,.75,.9,.95,.99,.999])"
   ]
  },
  {
   "cell_type": "markdown",
   "id": "legislative-eating",
   "metadata": {},
   "source": [
    "Comments are very rare relative to likes. Comments should probably count for more, but for this project I will just add votes and comments together (1 comment = 1 vote). I don't think there will be any difference in end results for the popularity metric."
   ]
  },
  {
   "cell_type": "code",
   "execution_count": 12,
   "id": "respiratory-forty",
   "metadata": {},
   "outputs": [],
   "source": [
    "reviews[\"n_likes\"] = reviews[\"n_votes\"]+reviews[\"n_comments\"]"
   ]
  },
  {
   "cell_type": "code",
   "execution_count": 13,
   "id": "broke-magnitude",
   "metadata": {},
   "outputs": [
    {
     "data": {
      "text/plain": [
       "0.500      0.0\n",
       "0.750      1.0\n",
       "0.900      3.0\n",
       "0.950      7.0\n",
       "0.990     27.0\n",
       "0.999    114.0\n",
       "Name: n_likes, dtype: float64"
      ]
     },
     "execution_count": 13,
     "metadata": {},
     "output_type": "execute_result"
    }
   ],
   "source": [
    "# distribution of likes by days since review for reviews < 1 mo old\n",
    "reviews.loc[reviews[\"days_since_review\"]<30,\"n_likes\"].quantile([.5,.75,.9,.95,.99,.999])"
   ]
  },
  {
   "cell_type": "code",
   "execution_count": 14,
   "id": "covered-manchester",
   "metadata": {},
   "outputs": [
    {
     "data": {
      "text/plain": [
       "0.500      0.0\n",
       "0.750      1.0\n",
       "0.900      4.0\n",
       "0.950      9.0\n",
       "0.990     38.0\n",
       "0.999    139.0\n",
       "Name: n_likes, dtype: float64"
      ]
     },
     "execution_count": 14,
     "metadata": {},
     "output_type": "execute_result"
    }
   ],
   "source": [
    "# distribution of likes by days since review for reviews < 1 year old\n",
    "reviews.loc[reviews[\"days_since_review\"]<365,\"n_likes\"].quantile([.5,.75,.9,.95,.99,.999])"
   ]
  },
  {
   "cell_type": "code",
   "execution_count": 15,
   "id": "retired-output",
   "metadata": {},
   "outputs": [
    {
     "data": {
      "text/plain": [
       "0.500     0.0\n",
       "0.750     1.0\n",
       "0.900     2.0\n",
       "0.950     5.0\n",
       "0.990    20.0\n",
       "0.999    91.0\n",
       "Name: n_likes, dtype: float64"
      ]
     },
     "execution_count": 15,
     "metadata": {},
     "output_type": "execute_result"
    }
   ],
   "source": [
    "# distribution of likes by days since review for reviews > 1 year old\n",
    "reviews.loc[reviews[\"days_since_review\"]>365,\"n_likes\"].quantile([.5,.75,.9,.95,.99,.999])"
   ]
  },
  {
   "cell_type": "markdown",
   "id": "monthly-quarter",
   "metadata": {},
   "source": [
    "Number of days since review doesn't seem significant. In fact the 90th percentile is actually higher for more recent reviews than older reviews. I don't think any of these differences are significant enough to merit inclusion except perhaps as a baseline variable."
   ]
  },
  {
   "cell_type": "code",
   "execution_count": 16,
   "id": "searching-panama",
   "metadata": {},
   "outputs": [],
   "source": [
    "# select and rename final columns required from reviews set\n",
    "reviews = reviews.loc[:,[\"book_id\",\"user_reviews\",\"rating\",\"review_text\",\"days_since_review\",\"n_likes\"]]\n",
    "reviews = reviews.rename(columns={\"rating\": \"user_rating\", \"n_likes\": \"review_likes\"})"
   ]
  },
  {
   "cell_type": "code",
   "execution_count": 17,
   "id": "humanitarian-shaft",
   "metadata": {},
   "outputs": [
    {
     "data": {
      "text/html": [
       "<div>\n",
       "<style scoped>\n",
       "    .dataframe tbody tr th:only-of-type {\n",
       "        vertical-align: middle;\n",
       "    }\n",
       "\n",
       "    .dataframe tbody tr th {\n",
       "        vertical-align: top;\n",
       "    }\n",
       "\n",
       "    .dataframe thead th {\n",
       "        text-align: right;\n",
       "    }\n",
       "</style>\n",
       "<table border=\"1\" class=\"dataframe\">\n",
       "  <thead>\n",
       "    <tr style=\"text-align: right;\">\n",
       "      <th></th>\n",
       "      <th>book_id</th>\n",
       "      <th>user_reviews</th>\n",
       "      <th>user_rating</th>\n",
       "      <th>review_text</th>\n",
       "      <th>days_since_review</th>\n",
       "      <th>review_likes</th>\n",
       "    </tr>\n",
       "  </thead>\n",
       "  <tbody>\n",
       "    <tr>\n",
       "      <th>0</th>\n",
       "      <td>6392944</td>\n",
       "      <td>27</td>\n",
       "      <td>3</td>\n",
       "      <td>I haven't read a fun mystery book in a while a...</td>\n",
       "      <td>102.0</td>\n",
       "      <td>6</td>\n",
       "    </tr>\n",
       "    <tr>\n",
       "      <th>1</th>\n",
       "      <td>28684704</td>\n",
       "      <td>27</td>\n",
       "      <td>3</td>\n",
       "      <td>A fun, fast paced science fiction thriller. I ...</td>\n",
       "      <td>353.0</td>\n",
       "      <td>22</td>\n",
       "    </tr>\n",
       "    <tr>\n",
       "      <th>2</th>\n",
       "      <td>32283133</td>\n",
       "      <td>27</td>\n",
       "      <td>0</td>\n",
       "      <td>http://www.telegraph.co.uk/culture/10...</td>\n",
       "      <td>367.0</td>\n",
       "      <td>9</td>\n",
       "    </tr>\n",
       "    <tr>\n",
       "      <th>3</th>\n",
       "      <td>17860739</td>\n",
       "      <td>27</td>\n",
       "      <td>4</td>\n",
       "      <td>An amazing and unique creation: JJ Abrams and ...</td>\n",
       "      <td>1318.0</td>\n",
       "      <td>7</td>\n",
       "    </tr>\n",
       "    <tr>\n",
       "      <th>4</th>\n",
       "      <td>8694005</td>\n",
       "      <td>27</td>\n",
       "      <td>3</td>\n",
       "      <td>The Name of the Rose is a thrilling Dan Brown-...</td>\n",
       "      <td>2613.0</td>\n",
       "      <td>23</td>\n",
       "    </tr>\n",
       "  </tbody>\n",
       "</table>\n",
       "</div>"
      ],
      "text/plain": [
       "    book_id  user_reviews  user_rating  \\\n",
       "0   6392944            27            3   \n",
       "1  28684704            27            3   \n",
       "2  32283133            27            0   \n",
       "3  17860739            27            4   \n",
       "4   8694005            27            3   \n",
       "\n",
       "                                         review_text  days_since_review  \\\n",
       "0  I haven't read a fun mystery book in a while a...              102.0   \n",
       "1  A fun, fast paced science fiction thriller. I ...              353.0   \n",
       "2           http://www.telegraph.co.uk/culture/10...              367.0   \n",
       "3  An amazing and unique creation: JJ Abrams and ...             1318.0   \n",
       "4  The Name of the Rose is a thrilling Dan Brown-...             2613.0   \n",
       "\n",
       "   review_likes  \n",
       "0             6  \n",
       "1            22  \n",
       "2             9  \n",
       "3             7  \n",
       "4            23  "
      ]
     },
     "execution_count": 17,
     "metadata": {},
     "output_type": "execute_result"
    }
   ],
   "source": [
    "reviews.head()"
   ]
  },
  {
   "cell_type": "code",
   "execution_count": 18,
   "id": "exclusive-brook",
   "metadata": {},
   "outputs": [],
   "source": [
    "# read book data and convert to DataFrame, retaining only relevant columns\n",
    "books = []\n",
    "with open(book_path) as f:\n",
    "    for line in f:\n",
    "        books.append(json.loads(line))\n",
    "books = pd.DataFrame(books)\n",
    "books = books.loc[:,[\"book_id\",\"text_reviews_count\",\"ratings_count\",\"average_rating\"]]\n",
    "books = books.astype({'text_reviews_count': 'int64','ratings_count': 'int64','average_rating': 'float64'})"
   ]
  },
  {
   "cell_type": "markdown",
   "id": "pediatric-layer",
   "metadata": {},
   "source": [
    "I looked at language_code and publication_year but there was a lot of missing data. Language over 50% were blank. Publication_year had about 15% missing. Given the fact that days since review didn't seem to impact the vote distribution I am going to assume that years since publication won't either."
   ]
  },
  {
   "cell_type": "code",
   "execution_count": 19,
   "id": "opposite-recommendation",
   "metadata": {},
   "outputs": [
    {
     "data": {
      "text/plain": [
       "0.250       10.00\n",
       "0.500       35.00\n",
       "0.750      128.00\n",
       "0.900      491.00\n",
       "0.950     1225.00\n",
       "0.990     7345.66\n",
       "0.999    51633.56\n",
       "Name: ratings_count, dtype: float64"
      ]
     },
     "execution_count": 19,
     "metadata": {},
     "output_type": "execute_result"
    }
   ],
   "source": [
    "# explore number of ratings distribution\n",
    "books[\"ratings_count\"].quantile([.25,.5,.75,.9,.95,.99,.999])"
   ]
  },
  {
   "cell_type": "code",
   "execution_count": 20,
   "id": "executed-spectrum",
   "metadata": {},
   "outputs": [
    {
     "data": {
      "text/plain": [
       "523.902410655233"
      ]
     },
     "execution_count": 20,
     "metadata": {},
     "output_type": "execute_result"
    }
   ],
   "source": [
    "books[\"ratings_count\"].mean()"
   ]
  },
  {
   "cell_type": "code",
   "execution_count": 21,
   "id": "unavailable-helen",
   "metadata": {},
   "outputs": [
    {
     "data": {
      "image/png": "[encoded data removed]",
      "text/plain": [
       "<Figure size 432x288 with 1 Axes>"
      ]
     },
     "metadata": {
      "needs_background": "light"
     },
     "output_type": "display_data"
    }
   ],
   "source": [
    "plt.figure()\n",
    "plt.hist(books[\"ratings_count\"],bins=30, range=(0,500))\n",
    "plt.show()"
   ]
  },
  {
   "cell_type": "markdown",
   "id": "wanted-unemployment",
   "metadata": {},
   "source": [
    "Huge range in book readership. Review popularity will have to be adjusted for book popularity."
   ]
  },
  {
   "cell_type": "code",
   "execution_count": 22,
   "id": "binding-likelihood",
   "metadata": {},
   "outputs": [
    {
     "data": {
      "text/plain": [
       "0.250       2.000\n",
       "0.500       6.000\n",
       "0.630      10.000\n",
       "0.750      17.000\n",
       "0.900      51.000\n",
       "0.950     109.000\n",
       "0.990     517.000\n",
       "0.999    2608.362\n",
       "Name: text_reviews_count, dtype: float64"
      ]
     },
     "execution_count": 22,
     "metadata": {},
     "output_type": "execute_result"
    }
   ],
   "source": [
    "# explore number of reviews distribution\n",
    "books[\"text_reviews_count\"].quantile([.25,.5,.63,.75,.9,.95,.99,.999])"
   ]
  },
  {
   "cell_type": "code",
   "execution_count": 23,
   "id": "clinical-duration",
   "metadata": {},
   "outputs": [
    {
     "data": {
      "image/png": "[encoded data removed]",
      "text/plain": [
       "<Figure size 432x288 with 1 Axes>"
      ]
     },
     "metadata": {
      "needs_background": "light"
     },
     "output_type": "display_data"
    }
   ],
   "source": [
    "plt.figure()\n",
    "plt.hist(books[\"text_reviews_count\"],bins=30, range=(0,200))\n",
    "plt.show()"
   ]
  },
  {
   "cell_type": "code",
   "execution_count": 24,
   "id": "indonesian-appointment",
   "metadata": {},
   "outputs": [
    {
     "data": {
      "text/html": [
       "<div>\n",
       "<style scoped>\n",
       "    .dataframe tbody tr th:only-of-type {\n",
       "        vertical-align: middle;\n",
       "    }\n",
       "\n",
       "    .dataframe tbody tr th {\n",
       "        vertical-align: top;\n",
       "    }\n",
       "\n",
       "    .dataframe thead th {\n",
       "        text-align: right;\n",
       "    }\n",
       "</style>\n",
       "<table border=\"1\" class=\"dataframe\">\n",
       "  <thead>\n",
       "    <tr style=\"text-align: right;\">\n",
       "      <th></th>\n",
       "      <th>text_reviews_count</th>\n",
       "      <th>ratings_count</th>\n",
       "    </tr>\n",
       "  </thead>\n",
       "  <tbody>\n",
       "    <tr>\n",
       "      <th>text_reviews_count</th>\n",
       "      <td>1.000000</td>\n",
       "      <td>0.740515</td>\n",
       "    </tr>\n",
       "    <tr>\n",
       "      <th>ratings_count</th>\n",
       "      <td>0.740515</td>\n",
       "      <td>1.000000</td>\n",
       "    </tr>\n",
       "  </tbody>\n",
       "</table>\n",
       "</div>"
      ],
      "text/plain": [
       "                    text_reviews_count  ratings_count\n",
       "text_reviews_count            1.000000       0.740515\n",
       "ratings_count                 0.740515       1.000000"
      ]
     },
     "execution_count": 24,
     "metadata": {},
     "output_type": "execute_result"
    }
   ],
   "source": [
    "books[[\"text_reviews_count\",\"ratings_count\"]].corr('pearson')"
   ]
  },
  {
   "cell_type": "code",
   "execution_count": 25,
   "id": "powered-miami",
   "metadata": {},
   "outputs": [],
   "source": [
    "# join review and book sets\n",
    "books = books.rename(columns={\"text_reviews_count\":\"book_reviews\", \"ratings_count\":\"book_ratings\", \"average_rating\":\"avg_rating\"})\n",
    "dat = pd.merge(reviews,books,on=\"book_id\")"
   ]
  },
  {
   "cell_type": "code",
   "execution_count": 26,
   "id": "conventional-valuable",
   "metadata": {},
   "outputs": [
    {
     "data": {
      "text/html": [
       "<div>\n",
       "<style scoped>\n",
       "    .dataframe tbody tr th:only-of-type {\n",
       "        vertical-align: middle;\n",
       "    }\n",
       "\n",
       "    .dataframe tbody tr th {\n",
       "        vertical-align: top;\n",
       "    }\n",
       "\n",
       "    .dataframe thead th {\n",
       "        text-align: right;\n",
       "    }\n",
       "</style>\n",
       "<table border=\"1\" class=\"dataframe\">\n",
       "  <thead>\n",
       "    <tr style=\"text-align: right;\">\n",
       "      <th></th>\n",
       "      <th>book_id</th>\n",
       "      <th>user_reviews</th>\n",
       "      <th>user_rating</th>\n",
       "      <th>review_text</th>\n",
       "      <th>days_since_review</th>\n",
       "      <th>review_likes</th>\n",
       "      <th>book_reviews</th>\n",
       "      <th>book_ratings</th>\n",
       "      <th>avg_rating</th>\n",
       "    </tr>\n",
       "  </thead>\n",
       "  <tbody>\n",
       "    <tr>\n",
       "      <th>0</th>\n",
       "      <td>6392944</td>\n",
       "      <td>27</td>\n",
       "      <td>3</td>\n",
       "      <td>I haven't read a fun mystery book in a while a...</td>\n",
       "      <td>102.0</td>\n",
       "      <td>6</td>\n",
       "      <td>42</td>\n",
       "      <td>675</td>\n",
       "      <td>3.8</td>\n",
       "    </tr>\n",
       "    <tr>\n",
       "      <th>1</th>\n",
       "      <td>6392944</td>\n",
       "      <td>130</td>\n",
       "      <td>4</td>\n",
       "      <td>A fun, fast read! I just adore reading books w...</td>\n",
       "      <td>2324.0</td>\n",
       "      <td>0</td>\n",
       "      <td>42</td>\n",
       "      <td>675</td>\n",
       "      <td>3.8</td>\n",
       "    </tr>\n",
       "    <tr>\n",
       "      <th>2</th>\n",
       "      <td>6392944</td>\n",
       "      <td>36</td>\n",
       "      <td>4</td>\n",
       "      <td>Full of twists and turns, way better than the ...</td>\n",
       "      <td>1164.0</td>\n",
       "      <td>0</td>\n",
       "      <td>42</td>\n",
       "      <td>675</td>\n",
       "      <td>3.8</td>\n",
       "    </tr>\n",
       "    <tr>\n",
       "      <th>3</th>\n",
       "      <td>6392944</td>\n",
       "      <td>15</td>\n",
       "      <td>4</td>\n",
       "      <td>The Murder on the Links is Agatha Christie's s...</td>\n",
       "      <td>1011.0</td>\n",
       "      <td>1</td>\n",
       "      <td>42</td>\n",
       "      <td>675</td>\n",
       "      <td>3.8</td>\n",
       "    </tr>\n",
       "    <tr>\n",
       "      <th>4</th>\n",
       "      <td>6392944</td>\n",
       "      <td>41</td>\n",
       "      <td>3</td>\n",
       "      <td>I enjoyed this novel. It is the epitome of a m...</td>\n",
       "      <td>216.0</td>\n",
       "      <td>0</td>\n",
       "      <td>42</td>\n",
       "      <td>675</td>\n",
       "      <td>3.8</td>\n",
       "    </tr>\n",
       "  </tbody>\n",
       "</table>\n",
       "</div>"
      ],
      "text/plain": [
       "   book_id  user_reviews  user_rating  \\\n",
       "0  6392944            27            3   \n",
       "1  6392944           130            4   \n",
       "2  6392944            36            4   \n",
       "3  6392944            15            4   \n",
       "4  6392944            41            3   \n",
       "\n",
       "                                         review_text  days_since_review  \\\n",
       "0  I haven't read a fun mystery book in a while a...              102.0   \n",
       "1  A fun, fast read! I just adore reading books w...             2324.0   \n",
       "2  Full of twists and turns, way better than the ...             1164.0   \n",
       "3  The Murder on the Links is Agatha Christie's s...             1011.0   \n",
       "4  I enjoyed this novel. It is the epitome of a m...              216.0   \n",
       "\n",
       "   review_likes  book_reviews  book_ratings  avg_rating  \n",
       "0             6            42           675         3.8  \n",
       "1             0            42           675         3.8  \n",
       "2             0            42           675         3.8  \n",
       "3             1            42           675         3.8  \n",
       "4             0            42           675         3.8  "
      ]
     },
     "execution_count": 26,
     "metadata": {},
     "output_type": "execute_result"
    }
   ],
   "source": [
    "dat.head()"
   ]
  },
  {
   "cell_type": "code",
   "execution_count": 27,
   "id": "sublime-distribution",
   "metadata": {},
   "outputs": [],
   "source": [
    "# add total review likes for book\n",
    "dat = dat.join(dat.groupby(\"book_id\")[\"review_likes\"].sum().rename(\"book_review_likes\"),on='book_id')"
   ]
  },
  {
   "cell_type": "code",
   "execution_count": 28,
   "id": "streaming-russian",
   "metadata": {
    "tags": []
   },
   "outputs": [
    {
     "data": {
      "text/plain": [
       "0.250        6.0\n",
       "0.500       43.0\n",
       "0.550       60.0\n",
       "0.600       83.0\n",
       "0.750      240.0\n",
       "0.900     1320.0\n",
       "0.950     2786.0\n",
       "0.990    10578.0\n",
       "0.999    17804.0\n",
       "Name: book_review_likes, dtype: float64"
      ]
     },
     "execution_count": 28,
     "metadata": {},
     "output_type": "execute_result"
    }
   ],
   "source": [
    "# explore total review likes distribution\n",
    "dat[\"book_review_likes\"].quantile([.25,.5,.55,.6,.75,.9,.95,.99,.999])"
   ]
  },
  {
   "cell_type": "code",
   "execution_count": 29,
   "id": "distributed-quebec",
   "metadata": {
    "tags": []
   },
   "outputs": [
    {
     "data": {
      "image/png": "[encoded data removed]",
      "text/plain": [
       "<Figure size 432x288 with 1 Axes>"
      ]
     },
     "metadata": {
      "needs_background": "light"
     },
     "output_type": "display_data"
    }
   ],
   "source": [
    "plt.figure()\n",
    "plt.hist(dat[\"book_review_likes\"],bins=30, range=(0,550))\n",
    "plt.show()"
   ]
  },
  {
   "cell_type": "code",
   "execution_count": 30,
   "id": "australian-square",
   "metadata": {},
   "outputs": [
    {
     "data": {
      "text/plain": [
       "0.050        1.0\n",
       "0.100        2.0\n",
       "0.250       12.0\n",
       "0.500       62.0\n",
       "0.750      306.0\n",
       "0.900     1603.0\n",
       "0.950     3036.0\n",
       "0.990    10578.0\n",
       "0.999    17804.0\n",
       "Name: book_review_likes, dtype: float64"
      ]
     },
     "execution_count": 30,
     "metadata": {},
     "output_type": "execute_result"
    }
   ],
   "source": [
    "# explore review likes distribution for books with more than 10 reviews\n",
    "dat[dat[\"book_reviews\"]>=10][\"book_review_likes\"].quantile([.05,.10,.25,.5,.75,.9,.95,.99,.999])"
   ]
  },
  {
   "cell_type": "code",
   "execution_count": 31,
   "id": "veterinary-person",
   "metadata": {},
   "outputs": [
    {
     "data": {
      "text/plain": [
       "0.010       33.0\n",
       "0.050       96.0\n",
       "0.100      174.0\n",
       "0.250      478.0\n",
       "0.500     1279.0\n",
       "0.750     3945.0\n",
       "0.900    15764.0\n",
       "0.950    27346.0\n",
       "0.990    78438.0\n",
       "0.999    78438.0\n",
       "Name: book_reviews, dtype: float64"
      ]
     },
     "execution_count": 31,
     "metadata": {},
     "output_type": "execute_result"
    }
   ],
   "source": [
    "# explore review counts distribution for books with at least 60 review likes\n",
    "dat[dat[\"book_review_likes\"]>=60][\"book_reviews\"].quantile([.01,.05,.10,.25,.5,.75,.9,.95,.99,.999])"
   ]
  },
  {
   "cell_type": "code",
   "execution_count": 32,
   "id": "leading-definition",
   "metadata": {},
   "outputs": [],
   "source": [
    "# remove books with fewer than 10 reviews and books with fewer than 60 review likes\n",
    "dat = dat[(dat[\"book_reviews\"]>=10) & (dat[\"book_review_likes\"]>=60)]"
   ]
  },
  {
   "cell_type": "code",
   "execution_count": 33,
   "id": "destroyed-medium",
   "metadata": {},
   "outputs": [],
   "source": [
    "# add review share - number of likes for review out of number of likes on all reviews for book\n",
    "dat[\"likes_share\"] = dat[\"review_likes\"]/dat[\"book_review_likes\"]"
   ]
  },
  {
   "cell_type": "code",
   "execution_count": 34,
   "id": "retained-conclusion",
   "metadata": {
    "tags": []
   },
   "outputs": [
    {
     "data": {
      "text/plain": [
       "0.250    0.000000\n",
       "0.500    0.000000\n",
       "0.750    0.000587\n",
       "0.900    0.012821\n",
       "0.950    0.032520\n",
       "0.990    0.183206\n",
       "0.999    0.797103\n",
       "Name: likes_share, dtype: float64"
      ]
     },
     "execution_count": 34,
     "metadata": {},
     "output_type": "execute_result"
    }
   ],
   "source": [
    "# explore like share distribution\n",
    "dat[\"likes_share\"].quantile([.25,.5,.75,.9,.95,.99,.999])"
   ]
  },
  {
   "cell_type": "code",
   "execution_count": 35,
   "id": "drawn-victor",
   "metadata": {},
   "outputs": [
    {
     "data": {
      "text/plain": [
       "0.250    0.001869\n",
       "0.500    0.007246\n",
       "0.750    0.020833\n",
       "0.900    0.064516\n",
       "0.950    0.133333\n",
       "0.990    0.503297\n",
       "0.999    0.960169\n",
       "Name: likes_share, dtype: float64"
      ]
     },
     "execution_count": 35,
     "metadata": {},
     "output_type": "execute_result"
    }
   ],
   "source": [
    "# explore like share distribution, at least 1 like\n",
    "dat.loc[dat[\"review_likes\"]>0,\"likes_share\"].quantile([.25,.5,.75,.9,.95,.99,.999])"
   ]
  },
  {
   "cell_type": "markdown",
   "id": "removed-accommodation",
   "metadata": {},
   "source": [
    "I am leaning towards calling a review popular if it is in the top quarter of like shares which would be share of 2%."
   ]
  },
  {
   "cell_type": "code",
   "execution_count": 36,
   "id": "static-calculation",
   "metadata": {},
   "outputs": [],
   "source": [
    "# remove books with 0 likes as mentioned eariler\n",
    "dat = dat[dat[\"review_likes\"]>0]"
   ]
  },
  {
   "cell_type": "code",
   "execution_count": 37,
   "id": "adequate-pressing",
   "metadata": {},
   "outputs": [
    {
     "data": {
      "text/plain": [
       "233469"
      ]
     },
     "execution_count": 37,
     "metadata": {},
     "output_type": "execute_result"
    }
   ],
   "source": [
    "len(dat)"
   ]
  },
  {
   "cell_type": "code",
   "execution_count": 38,
   "id": "enabling-lover",
   "metadata": {},
   "outputs": [],
   "source": [
    "# English reviews only\n",
    "# https://fasttext.cc/docs/en/language-identification.html\n",
    "# https://towardsdatascience.com/benchmarking-language-detection-for-nlp-8250ea8b67c\n",
    "import fasttext"
   ]
  },
  {
   "cell_type": "code",
   "execution_count": 39,
   "id": "casual-cassette",
   "metadata": {},
   "outputs": [
    {
     "name": "stderr",
     "output_type": "stream",
     "text": [
      "Warning : `load_model` does not return WordVectorModel or SupervisedModel any more, but a `FastText` object which is very similar.\n"
     ]
    }
   ],
   "source": [
    "language_model = fasttext.load_model('lid.176.bin')"
   ]
  },
  {
   "cell_type": "code",
   "execution_count": 40,
   "id": "according-investigation",
   "metadata": {},
   "outputs": [],
   "source": [
    "pred = language_model.predict(dat[\"review_text\"].str.replace('\\n','').to_list())"
   ]
  },
  {
   "cell_type": "code",
   "execution_count": 41,
   "id": "blank-travel",
   "metadata": {},
   "outputs": [],
   "source": [
    "keep_ind = [i for i in range(len(pred[0])) if pred[0][i][0] == '__label__en' and pred[1][i][0] > .90]"
   ]
  },
  {
   "cell_type": "code",
   "execution_count": 42,
   "id": "subject-context",
   "metadata": {},
   "outputs": [],
   "source": [
    "dat = dat.iloc[keep_ind,].reset_index(drop=True)"
   ]
  },
  {
   "cell_type": "code",
   "execution_count": 43,
   "id": "bottom-terminology",
   "metadata": {},
   "outputs": [
    {
     "data": {
      "text/plain": [
       "208350"
      ]
     },
     "execution_count": 43,
     "metadata": {},
     "output_type": "execute_result"
    }
   ],
   "source": [
    "len(dat)"
   ]
  },
  {
   "cell_type": "code",
   "execution_count": 44,
   "id": "large-colony",
   "metadata": {},
   "outputs": [
    {
     "data": {
      "text/html": [
       "<div>\n",
       "<style scoped>\n",
       "    .dataframe tbody tr th:only-of-type {\n",
       "        vertical-align: middle;\n",
       "    }\n",
       "\n",
       "    .dataframe tbody tr th {\n",
       "        vertical-align: top;\n",
       "    }\n",
       "\n",
       "    .dataframe thead th {\n",
       "        text-align: right;\n",
       "    }\n",
       "</style>\n",
       "<table border=\"1\" class=\"dataframe\">\n",
       "  <thead>\n",
       "    <tr style=\"text-align: right;\">\n",
       "      <th></th>\n",
       "      <th>book_id</th>\n",
       "      <th>user_reviews</th>\n",
       "      <th>user_rating</th>\n",
       "      <th>review_text</th>\n",
       "      <th>days_since_review</th>\n",
       "      <th>review_likes</th>\n",
       "      <th>book_reviews</th>\n",
       "      <th>book_ratings</th>\n",
       "      <th>avg_rating</th>\n",
       "      <th>book_review_likes</th>\n",
       "      <th>likes_share</th>\n",
       "    </tr>\n",
       "  </thead>\n",
       "  <tbody>\n",
       "    <tr>\n",
       "      <th>0</th>\n",
       "      <td>28684704</td>\n",
       "      <td>27</td>\n",
       "      <td>3</td>\n",
       "      <td>A fun, fast paced science fiction thriller. I ...</td>\n",
       "      <td>353.0</td>\n",
       "      <td>22</td>\n",
       "      <td>1026</td>\n",
       "      <td>13990</td>\n",
       "      <td>4.1</td>\n",
       "      <td>1010</td>\n",
       "      <td>0.021782</td>\n",
       "    </tr>\n",
       "    <tr>\n",
       "      <th>1</th>\n",
       "      <td>28684704</td>\n",
       "      <td>35</td>\n",
       "      <td>5</td>\n",
       "      <td>Mind-bending and completely unique, take a cha...</td>\n",
       "      <td>432.0</td>\n",
       "      <td>13</td>\n",
       "      <td>1026</td>\n",
       "      <td>13990</td>\n",
       "      <td>4.1</td>\n",
       "      <td>1010</td>\n",
       "      <td>0.012871</td>\n",
       "    </tr>\n",
       "    <tr>\n",
       "      <th>2</th>\n",
       "      <td>28684704</td>\n",
       "      <td>5</td>\n",
       "      <td>2</td>\n",
       "      <td>This could have been so much better. If it had...</td>\n",
       "      <td>432.0</td>\n",
       "      <td>2</td>\n",
       "      <td>1026</td>\n",
       "      <td>13990</td>\n",
       "      <td>4.1</td>\n",
       "      <td>1010</td>\n",
       "      <td>0.001980</td>\n",
       "    </tr>\n",
       "    <tr>\n",
       "      <th>3</th>\n",
       "      <td>28684704</td>\n",
       "      <td>69</td>\n",
       "      <td>3</td>\n",
       "      <td>I have mixed feelings about this book. I feel ...</td>\n",
       "      <td>201.0</td>\n",
       "      <td>3</td>\n",
       "      <td>1026</td>\n",
       "      <td>13990</td>\n",
       "      <td>4.1</td>\n",
       "      <td>1010</td>\n",
       "      <td>0.002970</td>\n",
       "    </tr>\n",
       "    <tr>\n",
       "      <th>4</th>\n",
       "      <td>28684704</td>\n",
       "      <td>12</td>\n",
       "      <td>5</td>\n",
       "      <td>Fuck it. This book deserves all the stars I ca...</td>\n",
       "      <td>424.0</td>\n",
       "      <td>2</td>\n",
       "      <td>1026</td>\n",
       "      <td>13990</td>\n",
       "      <td>4.1</td>\n",
       "      <td>1010</td>\n",
       "      <td>0.001980</td>\n",
       "    </tr>\n",
       "  </tbody>\n",
       "</table>\n",
       "</div>"
      ],
      "text/plain": [
       "    book_id  user_reviews  user_rating  \\\n",
       "0  28684704            27            3   \n",
       "1  28684704            35            5   \n",
       "2  28684704             5            2   \n",
       "3  28684704            69            3   \n",
       "4  28684704            12            5   \n",
       "\n",
       "                                         review_text  days_since_review  \\\n",
       "0  A fun, fast paced science fiction thriller. I ...              353.0   \n",
       "1  Mind-bending and completely unique, take a cha...              432.0   \n",
       "2  This could have been so much better. If it had...              432.0   \n",
       "3  I have mixed feelings about this book. I feel ...              201.0   \n",
       "4  Fuck it. This book deserves all the stars I ca...              424.0   \n",
       "\n",
       "   review_likes  book_reviews  book_ratings  avg_rating  book_review_likes  \\\n",
       "0            22          1026         13990         4.1               1010   \n",
       "1            13          1026         13990         4.1               1010   \n",
       "2             2          1026         13990         4.1               1010   \n",
       "3             3          1026         13990         4.1               1010   \n",
       "4             2          1026         13990         4.1               1010   \n",
       "\n",
       "   likes_share  \n",
       "0     0.021782  \n",
       "1     0.012871  \n",
       "2     0.001980  \n",
       "3     0.002970  \n",
       "4     0.001980  "
      ]
     },
     "execution_count": 44,
     "metadata": {},
     "output_type": "execute_result"
    }
   ],
   "source": [
    "dat.head()"
   ]
  }
 ],
 "metadata": {
  "kernelspec": {
   "display_name": "Python 3",
   "language": "python",
   "name": "python3"
  },
  "language_info": {
   "codemirror_mode": {
    "name": "ipython",
    "version": 3
   },
   "file_extension": ".py",
   "mimetype": "text/x-python",
   "name": "python",
   "nbconvert_exporter": "python",
   "pygments_lexer": "ipython3",
   "version": "3.9.1"
  }
 },
 "nbformat": 4,
 "nbformat_minor": 5
}
